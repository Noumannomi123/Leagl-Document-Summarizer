{
  "cells": [
    {
      "cell_type": "markdown",
      "metadata": {
        "id": "q1384h6JI9Ic"
      },
      "source": [
        "# Loading Dataset from Kaggle"
      ]
    },
    {
      "cell_type": "code",
      "execution_count": 1,
      "metadata": {
        "colab": {
          "base_uri": "https://localhost:8080/"
        },
        "id": "uosqGKNkKWV7",
        "outputId": "14b05488-0c81-47be-eb9b-b20cf7ddba6d"
      },
      "outputs": [
        {
          "name": "stdout",
          "output_type": "stream",
          "text": [
            "Downloading legal-text-classification-dataset, 15646328 bytes compressed\n",
            "[==================================================] 15646328 bytes downloaded\n",
            "Downloaded and uncompressed: legal-text-classification-dataset\n",
            "Data source import complete.\n"
          ]
        }
      ],
      "source": [
        "\n",
        "# IMPORTANT: RUN THIS CELL IN ORDER TO IMPORT YOUR KAGGLE DATA SOURCES\n",
        "# TO THE CORRECT LOCATION (/kaggle/input) IN YOUR NOTEBOOK,\n",
        "# THEN FEEL FREE TO DELETE THIS CELL.\n",
        "# NOTE: THIS NOTEBOOK ENVIRONMENT DIFFERS FROM KAGGLE'S PYTHON\n",
        "# ENVIRONMENT SO THERE MAY BE MISSING LIBRARIES USED BY YOUR\n",
        "# NOTEBOOK.\n",
        "\n",
        "import os\n",
        "import sys\n",
        "from tempfile import NamedTemporaryFile\n",
        "from urllib.request import urlopen\n",
        "from urllib.parse import unquote, urlparse\n",
        "from urllib.error import HTTPError\n",
        "from zipfile import ZipFile\n",
        "import tarfile\n",
        "import shutil\n",
        "\n",
        "CHUNK_SIZE = 40960\n",
        "DATA_SOURCE_MAPPING = 'legal-text-classification-dataset:https%3A%2F%2Fstorage.googleapis.com%2Fkaggle-data-sets%2F3873453%2F6723483%2Fbundle%2Farchive.zip%3FX-Goog-Algorithm%3DGOOG4-RSA-SHA256%26X-Goog-Credential%3Dgcp-kaggle-com%2540kaggle-161607.iam.gserviceaccount.com%252F20240521%252Fauto%252Fstorage%252Fgoog4_request%26X-Goog-Date%3D20240521T171823Z%26X-Goog-Expires%3D259200%26X-Goog-SignedHeaders%3Dhost%26X-Goog-Signature%3D50bf3ff26863dfa1126bfb7865725ad59402f07be0f3ef136b683594b08781b8920f4f34aba4235adfa0c1297fac2c05b6e6c196ec968795f461a56d59e942d1a1b4f105fc45cfd64ff054ff004c0b1e2cca2f39956ec7eeb88bbb8a4c879e3d84131a15f98917cc54bc16299d42f32a298c18c65aac66c3d8eef368d9ca08c65aa62c6d441d5593df7041f4a0b2e80b4fabcfd2b432e0dca2690c811d6d7416e2a41a9d2a92c669036fc1e567e37ea70890def6e792bb686ca3cb43a6f9f98a2394a820446902a737e765d827e144072a69039f8190e52b61e97398d315dcb7e5a17636a0574bb4e7e3803ac2ceaabf4c5c75d5b1d086b6c5496a48475873c4'\n",
        "\n",
        "KAGGLE_INPUT_PATH='/kaggle/input'\n",
        "KAGGLE_WORKING_PATH='/kaggle/working'\n",
        "KAGGLE_SYMLINK='kaggle'\n",
        "\n",
        "!umount /kaggle/input/ 2> /dev/null\n",
        "shutil.rmtree('/kaggle/input', ignore_errors=True)\n",
        "os.makedirs(KAGGLE_INPUT_PATH, 0o777, exist_ok=True)\n",
        "os.makedirs(KAGGLE_WORKING_PATH, 0o777, exist_ok=True)\n",
        "\n",
        "try:\n",
        "  os.symlink(KAGGLE_INPUT_PATH, os.path.join(\"..\", 'input'), target_is_directory=True)\n",
        "except FileExistsError:\n",
        "  pass\n",
        "try:\n",
        "  os.symlink(KAGGLE_WORKING_PATH, os.path.join(\"..\", 'working'), target_is_directory=True)\n",
        "except FileExistsError:\n",
        "  pass\n",
        "\n",
        "for data_source_mapping in DATA_SOURCE_MAPPING.split(','):\n",
        "    directory, download_url_encoded = data_source_mapping.split(':')\n",
        "    download_url = unquote(download_url_encoded)\n",
        "    filename = urlparse(download_url).path\n",
        "    destination_path = os.path.join(KAGGLE_INPUT_PATH, directory)\n",
        "    try:\n",
        "        with urlopen(download_url) as fileres, NamedTemporaryFile() as tfile:\n",
        "            total_length = fileres.headers['content-length']\n",
        "            print(f'Downloading {directory}, {total_length} bytes compressed')\n",
        "            dl = 0\n",
        "            data = fileres.read(CHUNK_SIZE)\n",
        "            while len(data) > 0:\n",
        "                dl += len(data)\n",
        "                tfile.write(data)\n",
        "                done = int(50 * dl / int(total_length))\n",
        "                sys.stdout.write(f\"\\r[{'=' * done}{' ' * (50-done)}] {dl} bytes downloaded\")\n",
        "                sys.stdout.flush()\n",
        "                data = fileres.read(CHUNK_SIZE)\n",
        "            if filename.endswith('.zip'):\n",
        "              with ZipFile(tfile) as zfile:\n",
        "                zfile.extractall(destination_path)\n",
        "            else:\n",
        "              with tarfile.open(tfile.name) as tarfile:\n",
        "                tarfile.extractall(destination_path)\n",
        "            print(f'\\nDownloaded and uncompressed: {directory}')\n",
        "    except HTTPError as e:\n",
        "        print(f'Failed to load (likely expired) {download_url} to path {destination_path}')\n",
        "        continue\n",
        "    except OSError as e:\n",
        "        print(f'Failed to load {download_url} to path {destination_path}')\n",
        "        continue\n",
        "\n",
        "print('Data source import complete.')\n"
      ]
    },
    {
      "cell_type": "code",
      "execution_count": 2,
      "metadata": {
        "id": "m2Q3jwg8fzgy"
      },
      "outputs": [],
      "source": [
        "import pandas as pd"
      ]
    },
    {
      "cell_type": "code",
      "execution_count": 3,
      "metadata": {
        "execution": {
          "iopub.execute_input": "2024-05-21T17:05:40.938493Z",
          "iopub.status.busy": "2024-05-21T17:05:40.937783Z",
          "iopub.status.idle": "2024-05-21T17:05:42.702871Z",
          "shell.execute_reply": "2024-05-21T17:05:42.701559Z",
          "shell.execute_reply.started": "2024-05-21T17:05:40.938456Z"
        },
        "id": "3129faf0",
        "trusted": true
      },
      "outputs": [],
      "source": [
        "df = pd.read_csv('/kaggle/input/legal-text-classification-dataset/legal_text_classification.csv',on_bad_lines=\"skip\",engine='python')"
      ]
    },
    {
      "cell_type": "code",
      "execution_count": 4,
      "metadata": {
        "colab": {
          "base_uri": "https://localhost:8080/"
        },
        "execution": {
          "iopub.execute_input": "2024-05-21T17:05:42.704562Z",
          "iopub.status.busy": "2024-05-21T17:05:42.704225Z",
          "iopub.status.idle": "2024-05-21T17:05:42.729335Z",
          "shell.execute_reply": "2024-05-21T17:05:42.728191Z",
          "shell.execute_reply.started": "2024-05-21T17:05:42.704535Z"
        },
        "id": "0a059a65",
        "outputId": "873756ae-a76c-4103-eade-11b353d15380",
        "trusted": true
      },
      "outputs": [
        {
          "name": "stdout",
          "output_type": "stream",
          "text": [
            "<class 'pandas.core.frame.DataFrame'>\n",
            "RangeIndex: 24984 entries, 0 to 24983\n",
            "Data columns (total 4 columns):\n",
            " #   Column        Non-Null Count  Dtype \n",
            "---  ------        --------------  ----- \n",
            " 0   case_id       24984 non-null  object\n",
            " 1   case_outcome  24984 non-null  object\n",
            " 2   case_title    24984 non-null  object\n",
            " 3   case_text     24808 non-null  object\n",
            "dtypes: object(4)\n",
            "memory usage: 780.9+ KB\n"
          ]
        }
      ],
      "source": [
        "df.info()"
      ]
    },
    {
      "cell_type": "code",
      "execution_count": 54,
      "metadata": {
        "execution": {
          "iopub.execute_input": "2024-05-21T17:06:26.536254Z",
          "iopub.status.busy": "2024-05-21T17:06:26.53539Z",
          "iopub.status.idle": "2024-05-21T17:06:26.549722Z",
          "shell.execute_reply": "2024-05-21T17:06:26.548336Z",
          "shell.execute_reply.started": "2024-05-21T17:06:26.536204Z"
        },
        "id": "orCUQXzLKWWC",
        "trusted": true
      },
      "outputs": [],
      "source": [
        "title, case_text = df.iloc[3][['case_title', 'case_text']]"
      ]
    },
    {
      "cell_type": "code",
      "execution_count": 55,
      "metadata": {
        "colab": {
          "base_uri": "https://localhost:8080/"
        },
        "execution": {
          "iopub.execute_input": "2024-05-21T17:06:26.983943Z",
          "iopub.status.busy": "2024-05-21T17:06:26.983524Z",
          "iopub.status.idle": "2024-05-21T17:06:26.989879Z",
          "shell.execute_reply": "2024-05-21T17:06:26.989012Z",
          "shell.execute_reply.started": "2024-05-21T17:06:26.983911Z"
        },
        "id": "hCcCGDF8KWWD",
        "outputId": "61aa1b44-ee48-4acd-eaa0-607d6a82427b",
        "trusted": true
      },
      "outputs": [
        {
          "name": "stdout",
          "output_type": "stream",
          "text": [
            "Title:\n",
            "Dais Studio Pty Ltd v Bullett Creative Pty Ltd [2008] FCA 42\n",
            "Case Text:\n",
            "The general principles governing the exercise of the discretion to award indemnity costs after rejection by an unsuccessful party of a so called Calderbank letter were set out in the judgment of the Full Court in Black v Lipovac [1998] FCA 699 ; (1998) 217 ALR 386. In summary those principles are: 1. Mere refusal of a \"Calderbank offer\" does not itself warrant an order for indemnity costs. In this connection it may be noted that Jessup J in Dais Studio Pty Ltd v Bullet Creative Pty Ltd [2008] FCA 42 said that (at [6]): if the rejection of such an offer is to ground a claim for indemnity costs, it must be by reason of some circumstance other than that the offer happened to comply with the Calderbank principle. 2. To obtain an order for indemnity costs the offeror must show that the refusal to accept it was unreasonable. 3. The reasonableness of the conduct of the offeree is to be viewed in the light of the circumstances that existed when the offer was rejected.\n"
          ]
        }
      ],
      "source": [
        "print(\"Title:\")\n",
        "print(title)\n",
        "print(\"Case Text:\")\n",
        "print(case_text)"
      ]
    },
    {
      "cell_type": "markdown",
      "metadata": {
        "id": "wWier-CjJFXB"
      },
      "source": [
        "# Preprocessing"
      ]
    },
    {
      "cell_type": "code",
      "execution_count": 7,
      "metadata": {
        "colab": {
          "base_uri": "https://localhost:8080/"
        },
        "execution": {
          "iopub.execute_input": "2024-05-21T17:06:45.916755Z",
          "iopub.status.busy": "2024-05-21T17:06:45.91629Z",
          "iopub.status.idle": "2024-05-21T17:06:47.719548Z",
          "shell.execute_reply": "2024-05-21T17:06:47.718326Z",
          "shell.execute_reply.started": "2024-05-21T17:06:45.916721Z"
        },
        "id": "ACCjt1rRKWWG",
        "outputId": "38087a16-bf92-4273-ff2b-62c7a132f238",
        "trusted": true
      },
      "outputs": [
        {
          "name": "stderr",
          "output_type": "stream",
          "text": [
            "[nltk_data] Downloading package punkt to /root/nltk_data...\n",
            "[nltk_data]   Package punkt is already up-to-date!\n",
            "[nltk_data] Downloading package stopwords to /root/nltk_data...\n",
            "[nltk_data]   Package stopwords is already up-to-date!\n",
            "[nltk_data] Downloading package wordnet to /root/nltk_data...\n",
            "[nltk_data]   Package wordnet is already up-to-date!\n"
          ]
        }
      ],
      "source": [
        "import re\n",
        "import spacy\n",
        "import nltk\n",
        "from nltk.corpus import stopwords\n",
        "from nltk.tokenize import word_tokenize\n",
        "from nltk.stem import WordNetLemmatizer\n",
        "\n",
        "nltk.download('punkt')\n",
        "nltk.download('stopwords')\n",
        "nltk.download('wordnet')\n",
        "\n",
        "def preprocess_text(text: str):\n",
        "    text = str(text)\n",
        "    text = text.lower()\n",
        "    text = re.sub(r'[^\\w\\s]', '', text)\n",
        "    words = word_tokenize(text)\n",
        "    stop_words = set(stopwords.words('english'))\n",
        "    words = [word for word in words if word not in stop_words]\n",
        "    lemmatizer = WordNetLemmatizer()\n",
        "    words = [lemmatizer.lemmatize(word) for word in words]\n",
        "    return ' '.join(words)"
      ]
    },
    {
      "cell_type": "code",
      "execution_count": 45,
      "metadata": {
        "id": "zhhlioHngjUb"
      },
      "outputs": [],
      "source": [
        "pre_text = preprocess_text(case_text)"
      ]
    },
    {
      "cell_type": "code",
      "execution_count": 47,
      "metadata": {
        "colab": {
          "base_uri": "https://localhost:8080/"
        },
        "id": "3ScGxHJHJLMM",
        "outputId": "febdc5da-d87f-4310-cff7-392279408201"
      },
      "outputs": [
        {
          "name": "stdout",
          "output_type": "stream",
          "text": [
            "assumption without foundation refused interlocutory relief 10 february 2005 see 2005 fca 79 leave appeal judgment refused hely j 3 may 2005 see 2005 fca 541\n"
          ]
        }
      ],
      "source": [
        "# Processed\n",
        "print(pre_text)"
      ]
    },
    {
      "cell_type": "code",
      "execution_count": 48,
      "metadata": {
        "colab": {
          "base_uri": "https://localhost:8080/"
        },
        "id": "9Eqa8XBeJMmA",
        "outputId": "4cdf8d7a-6ca5-470d-c543-5b8d84d4b7d5"
      },
      "outputs": [
        {
          "name": "stdout",
          "output_type": "stream",
          "text": [
            "The assumption is without foundation. I refused interlocutory relief on 10 February 2005; see [2005] FCA 79. Leave to appeal from my judgment was refused by Hely J on 3 May 2005; see [2005] FCA 541.\n"
          ]
        }
      ],
      "source": [
        "# Original\n",
        "print(case_text)"
      ]
    },
    {
      "cell_type": "markdown",
      "metadata": {
        "id": "Inu4rKhiJXVC"
      },
      "source": [
        "#Checking entities"
      ]
    },
    {
      "cell_type": "code",
      "execution_count": 44,
      "metadata": {
        "colab": {
          "base_uri": "https://localhost:8080/"
        },
        "execution": {
          "iopub.execute_input": "2024-05-21T17:06:47.72271Z",
          "iopub.status.busy": "2024-05-21T17:06:47.721534Z",
          "iopub.status.idle": "2024-05-21T17:06:49.332485Z",
          "shell.execute_reply": "2024-05-21T17:06:49.331238Z",
          "shell.execute_reply.started": "2024-05-21T17:06:47.722671Z"
        },
        "id": "8RUkkUeSKWWG",
        "outputId": "909af678-adea-4224-ad80-a2248b491d07",
        "trusted": true
      },
      "outputs": [
        {
          "name": "stdout",
          "output_type": "stream",
          "text": [
            "Entity: DATE, Content: 10 february 2005\n",
            "Entity: DATE, Content: 2005\n",
            "Entity: CARDINAL, Content: 79\n",
            "Entity: DATE, Content: 3 may 2005\n",
            "Entity: DATE, Content: 2005\n",
            "Entity: CARDINAL, Content: 541\n"
          ]
        }
      ],
      "source": [
        "nlp = spacy.load('en_core_web_sm')\n",
        "doc = nlp(pre_text)\n",
        "entities = [(ent.text, ent.label_) for ent in doc.ents]\n",
        "# print(\"Entities:\", entities)\n",
        "for ent in entities:\n",
        "  print('Entity:', ent[1]+',', 'Content:', ent[0])"
      ]
    },
    {
      "cell_type": "markdown",
      "metadata": {
        "id": "gn6LShaGJiUv"
      },
      "source": [
        "#Using LLama3 70b 8192 model for summarization"
      ]
    },
    {
      "cell_type": "code",
      "execution_count": 11,
      "metadata": {
        "colab": {
          "base_uri": "https://localhost:8080/"
        },
        "id": "FXy-JmF_mNms",
        "outputId": "435c3225-a0ad-4525-967d-ce1365b06bf3"
      },
      "outputs": [
        {
          "name": "stdout",
          "output_type": "stream",
          "text": [
            "Requirement already satisfied: groq in /usr/local/lib/python3.10/dist-packages (0.6.0)\n",
            "Requirement already satisfied: anyio<5,>=3.5.0 in /usr/local/lib/python3.10/dist-packages (from groq) (3.7.1)\n",
            "Requirement already satisfied: distro<2,>=1.7.0 in /usr/lib/python3/dist-packages (from groq) (1.7.0)\n",
            "Requirement already satisfied: httpx<1,>=0.23.0 in /usr/local/lib/python3.10/dist-packages (from groq) (0.27.0)\n",
            "Requirement already satisfied: pydantic<3,>=1.9.0 in /usr/local/lib/python3.10/dist-packages (from groq) (2.7.1)\n",
            "Requirement already satisfied: sniffio in /usr/local/lib/python3.10/dist-packages (from groq) (1.3.1)\n",
            "Requirement already satisfied: typing-extensions<5,>=4.7 in /usr/local/lib/python3.10/dist-packages (from groq) (4.11.0)\n",
            "Requirement already satisfied: idna>=2.8 in /usr/local/lib/python3.10/dist-packages (from anyio<5,>=3.5.0->groq) (3.7)\n",
            "Requirement already satisfied: exceptiongroup in /usr/local/lib/python3.10/dist-packages (from anyio<5,>=3.5.0->groq) (1.2.1)\n",
            "Requirement already satisfied: certifi in /usr/local/lib/python3.10/dist-packages (from httpx<1,>=0.23.0->groq) (2024.2.2)\n",
            "Requirement already satisfied: httpcore==1.* in /usr/local/lib/python3.10/dist-packages (from httpx<1,>=0.23.0->groq) (1.0.5)\n",
            "Requirement already satisfied: h11<0.15,>=0.13 in /usr/local/lib/python3.10/dist-packages (from httpcore==1.*->httpx<1,>=0.23.0->groq) (0.14.0)\n",
            "Requirement already satisfied: annotated-types>=0.4.0 in /usr/local/lib/python3.10/dist-packages (from pydantic<3,>=1.9.0->groq) (0.6.0)\n",
            "Requirement already satisfied: pydantic-core==2.18.2 in /usr/local/lib/python3.10/dist-packages (from pydantic<3,>=1.9.0->groq) (2.18.2)\n"
          ]
        }
      ],
      "source": [
        "!pip install groq"
      ]
    },
    {
      "cell_type": "code",
      "execution_count": 12,
      "metadata": {
        "id": "WSs6AS21mLPs"
      },
      "outputs": [],
      "source": [
        "groq_api = \"use_your_api_key_from_groq_cloud\""
      ]
    },
    {
      "cell_type": "code",
      "execution_count": 13,
      "metadata": {
        "colab": {
          "base_uri": "https://localhost:8080/"
        },
        "id": "eUuOSSsTkqqe",
        "outputId": "74a8742e-6313-4544-ef88-cc034184baf8"
      },
      "outputs": [
        {
          "name": "stdout",
          "output_type": "stream",
          "text": [
            "The Federal Court of Australia (FCA) denied interlocutory relief on February 10, 2005 (2005 FCA 79). Subsequently, leave to appeal the judgment was refused by Hely J on May 3, 2005 (2005 FCA 541).\n"
          ]
        }
      ],
      "source": [
        "from groq import Groq\n",
        "\n",
        "client = Groq(\n",
        "    api_key=groq_api\n",
        ")\n",
        "def get_summary(text):\n",
        "  completion = client.chat.completions.create(\n",
        "      model=\"llama3-70b-8192\",\n",
        "      messages=[\n",
        "          {\"role\": \"system\", \"content\": \"You are a legal assistant that summarizes legal documents. Use this format to write your response: Summary: (summary content)\"},\n",
        "          {\"role\": \"user\", \"content\": f\"Summarize the following legal text. Note that the summary should be concise but includes all the necessary infromation like import entities e.t.c:\\n\\n{text}\\n\\nSummary:\"},\n",
        "      ],\n",
        "      temperature=1,\n",
        "      max_tokens=1024,\n",
        "      top_p=1,\n",
        "      stream=True,\n",
        "      stop=None,\n",
        "  )\n",
        "  result = \"\"\n",
        "  for chunk in completion:\n",
        "      result += chunk.choices[0].delta.content or \"\"\n",
        "  result = result[len('Summary') + 2:]\n",
        "  return result\n",
        "print(get_summary(pre_text))\n"
      ]
    },
    {
      "cell_type": "code",
      "execution_count": 14,
      "metadata": {
        "colab": {
          "base_uri": "https://localhost:8080/",
          "height": 206
        },
        "id": "swci-AvZpEby",
        "outputId": "3436f49c-3ea1-4248-b004-e5f339ea8b0f"
      },
      "outputs": [
        {
          "data": {
            "application/vnd.google.colaboratory.intrinsic+json": {
              "summary": "{\n  \"name\": \"df\",\n  \"rows\": 24984,\n  \"fields\": [\n    {\n      \"column\": \"case_id\",\n      \"properties\": {\n        \"dtype\": \"string\",\n        \"num_unique_values\": 24984,\n        \"samples\": [\n          \"Case15690\",\n          \"Case9347\",\n          \"Case8483\"\n        ],\n        \"semantic_type\": \"\",\n        \"description\": \"\"\n      }\n    },\n    {\n      \"column\": \"case_outcome\",\n      \"properties\": {\n        \"dtype\": \"category\",\n        \"num_unique_values\": 10,\n        \"samples\": [\n          \"affirmed\",\n          \"applied\",\n          \"considered\"\n        ],\n        \"semantic_type\": \"\",\n        \"description\": \"\"\n      }\n    },\n    {\n      \"column\": \"case_title\",\n      \"properties\": {\n        \"dtype\": \"string\",\n        \"num_unique_values\": 18581,\n        \"samples\": [\n          \"SZMDG v Minister for Immigration and Anor [2008] FMCA 1075\",\n          \"Venus Adult Shops Pty Ltd and Others v Fraserside Holdings Ltd and Another [2006] FCAFC 188 ; (2006) 157 FCR 442\",\n          \"CPSU v Telstra Corporation Ltd [2001] FCA 267 ; (2001) 107 FCR 93 \"\n        ],\n        \"semantic_type\": \"\",\n        \"description\": \"\"\n      }\n    },\n    {\n      \"column\": \"case_text\",\n      \"properties\": {\n        \"dtype\": \"string\",\n        \"num_unique_values\": 17919,\n        \"samples\": [\n          \"need not recount in further detail the claims of estoppel, unfairness and waiver. In relation to \\\"substantive unfairness\\\", the applicants cite R v Inland Revenue Commissioner; Ex parte Preston [1984] UKHL 5 ; [1985] AC 835 at 866 7 (Templeman LJ) (for the principle that judicial review may be warranted where a commissioner's decision is unfair and amounting to a breach of contract or breach of representation, and therefore within the ambit of an abuse of power). They acknowledge the note of caution in relation to this principle that was sounded by Lehane J in Daihatsu Australia Pty Ltd v Deputy Commissioner of Taxation (2001) 182 ALR 239 (\\\" Daihatsu \\\") at [51] (that note of caution being that such a principle has not been the subject of extended consideration by Australian courts), but say that at the trial, they will submit that the principles of administrative law in Australia are developing to take account of a form of doctrine of substantive unfairness of the kind described by Lord Templeman. REASONING Order 20 of the FCRs and s 31A of the FCA Act Deloitte and Daihatsu concerned notices issued by the Commissioner under s 264 of the ITAA. In Deloitte , Goldberg J (at 451) expressed the opinion, and the Commissioner did not dispute, that the Commissioner's delegate was bound to have regard to the Guidelines when deciding to issue a notice under s 264. His Honour said that for this reason it was not necessary for him to deal with the Commissioner's submission that the Guidelines were not a source of rights. In Daihatsu , the taxpayer sought relief under s 16 of the AD(JR) Act and s 39B of the Judiciary Act in respect of notices issued under s 264 of the ITAA. Lehane J (at [68]) refused relief on the merits.\",\n          \"The statements of principle in Gacic, both in the Court of Appeal and the High Court, are consistent with the holding of a Full Court of this Court that a necessary element of an action in defamation by a trading corporation is that it has sustained injury to its reputation ' in the way of its trade or business ': Australian Broadcasting Corporation v Comalco Ltd (1986) 12 FCR 510 , at 586-587, per Neaves J; at 599-603, per Pincus J; at 560, per Smithers J (agreeing). The Court rejected the opinion expressed by Mahoney JA (dissenting) in Andrews v John Fairfax &amp; Sons Ltd [1980] 2 NSWLR 225, at 255, that a trading corporation may recover damages for ' injury to reputation as such '. 51 None of these cases considered the significance of taxation in assessing the damages to be awarded to a trading corporation for defamation. That issue was addressed in Rubber Improvements. In that case, two juries had awarded substantial damages for defamation in favour of a trading corporation. The plaintiff corporation did not plead that it had sustained special damage and adduced little or no evidence of financial loss. In determining that the awards were excessive, Lord Reid, in a frequently cited judgment, held that a damages award for libel, insofar as it compensates for loss of income, should allow for the corporation's notional obligation to pay income tax, had the lost income been earned.\",\n          \"It is, of course, necessary to deal with jurisdiction first: Khatri v Price [1999] FCA 1289 ; (1999) 95 FCR 287 at 289-90 [13] - [14] . Before coming to s 4(3) of the Act it is necessary to set out what the evidence discloses of the facts. It should be said at the outset that the issues have been canvassed without a trial and on interlocutory evidence (some of which was unsatisfactory and inadmissible). 6 The jurisdiction of the Court is conferred by laws of the Commonwealth Parliament. The Court only has jurisdiction here if the plaintiff's claim is a general maritime claim under the Act, such that the claim for damages in bailment and tort can be seen as a claim in federal jurisdiction, in the exercise of the Court's Admiralty and maritime jurisdiction, having its source in s 76(iii) of the Australian Constitution . 7 The evidence is sufficient for me to conclude that the Court has jurisdiction on the basis that the plaintiff's claim is a general maritime claim of the legal character set out in s 4(3)(f) of the Act, being a claim \\\" arising out of an agreement that relates to the carriage of goods or persons by a ship or to the use or hire of a ship, whether by charterparty or otherwise \\\".\"\n        ],\n        \"semantic_type\": \"\",\n        \"description\": \"\"\n      }\n    }\n  ]\n}",
              "type": "dataframe",
              "variable_name": "df"
            },
            "text/html": [
              "\n",
              "  <div id=\"df-6a602dda-908e-4abf-9e56-72258f725f2c\" class=\"colab-df-container\">\n",
              "    <div>\n",
              "<style scoped>\n",
              "    .dataframe tbody tr th:only-of-type {\n",
              "        vertical-align: middle;\n",
              "    }\n",
              "\n",
              "    .dataframe tbody tr th {\n",
              "        vertical-align: top;\n",
              "    }\n",
              "\n",
              "    .dataframe thead th {\n",
              "        text-align: right;\n",
              "    }\n",
              "</style>\n",
              "<table border=\"1\" class=\"dataframe\">\n",
              "  <thead>\n",
              "    <tr style=\"text-align: right;\">\n",
              "      <th></th>\n",
              "      <th>case_id</th>\n",
              "      <th>case_outcome</th>\n",
              "      <th>case_title</th>\n",
              "      <th>case_text</th>\n",
              "    </tr>\n",
              "  </thead>\n",
              "  <tbody>\n",
              "    <tr>\n",
              "      <th>0</th>\n",
              "      <td>Case1</td>\n",
              "      <td>cited</td>\n",
              "      <td>Alpine Hardwood (Aust) Pty Ltd v Hardys Pty Lt...</td>\n",
              "      <td>Ordinarily that discretion will be exercised s...</td>\n",
              "    </tr>\n",
              "    <tr>\n",
              "      <th>1</th>\n",
              "      <td>Case2</td>\n",
              "      <td>cited</td>\n",
              "      <td>Black v Lipovac [1998] FCA 699 ; (1998) 217 AL...</td>\n",
              "      <td>The general principles governing the exercise ...</td>\n",
              "    </tr>\n",
              "    <tr>\n",
              "      <th>2</th>\n",
              "      <td>Case3</td>\n",
              "      <td>cited</td>\n",
              "      <td>Colgate Palmolive Co v Cussons Pty Ltd (1993) ...</td>\n",
              "      <td>Ordinarily that discretion will be exercised s...</td>\n",
              "    </tr>\n",
              "    <tr>\n",
              "      <th>3</th>\n",
              "      <td>Case4</td>\n",
              "      <td>cited</td>\n",
              "      <td>Dais Studio Pty Ltd v Bullett Creative Pty Ltd...</td>\n",
              "      <td>The general principles governing the exercise ...</td>\n",
              "    </tr>\n",
              "    <tr>\n",
              "      <th>4</th>\n",
              "      <td>Case5</td>\n",
              "      <td>cited</td>\n",
              "      <td>Dr Martens Australia Pty Ltd v Figgins Holding...</td>\n",
              "      <td>The preceding general principles inform the ex...</td>\n",
              "    </tr>\n",
              "  </tbody>\n",
              "</table>\n",
              "</div>\n",
              "    <div class=\"colab-df-buttons\">\n",
              "\n",
              "  <div class=\"colab-df-container\">\n",
              "    <button class=\"colab-df-convert\" onclick=\"convertToInteractive('df-6a602dda-908e-4abf-9e56-72258f725f2c')\"\n",
              "            title=\"Convert this dataframe to an interactive table.\"\n",
              "            style=\"display:none;\">\n",
              "\n",
              "  <svg xmlns=\"http://www.w3.org/2000/svg\" height=\"24px\" viewBox=\"0 -960 960 960\">\n",
              "    <path d=\"M120-120v-720h720v720H120Zm60-500h600v-160H180v160Zm220 220h160v-160H400v160Zm0 220h160v-160H400v160ZM180-400h160v-160H180v160Zm440 0h160v-160H620v160ZM180-180h160v-160H180v160Zm440 0h160v-160H620v160Z\"/>\n",
              "  </svg>\n",
              "    </button>\n",
              "\n",
              "  <style>\n",
              "    .colab-df-container {\n",
              "      display:flex;\n",
              "      gap: 12px;\n",
              "    }\n",
              "\n",
              "    .colab-df-convert {\n",
              "      background-color: #E8F0FE;\n",
              "      border: none;\n",
              "      border-radius: 50%;\n",
              "      cursor: pointer;\n",
              "      display: none;\n",
              "      fill: #1967D2;\n",
              "      height: 32px;\n",
              "      padding: 0 0 0 0;\n",
              "      width: 32px;\n",
              "    }\n",
              "\n",
              "    .colab-df-convert:hover {\n",
              "      background-color: #E2EBFA;\n",
              "      box-shadow: 0px 1px 2px rgba(60, 64, 67, 0.3), 0px 1px 3px 1px rgba(60, 64, 67, 0.15);\n",
              "      fill: #174EA6;\n",
              "    }\n",
              "\n",
              "    .colab-df-buttons div {\n",
              "      margin-bottom: 4px;\n",
              "    }\n",
              "\n",
              "    [theme=dark] .colab-df-convert {\n",
              "      background-color: #3B4455;\n",
              "      fill: #D2E3FC;\n",
              "    }\n",
              "\n",
              "    [theme=dark] .colab-df-convert:hover {\n",
              "      background-color: #434B5C;\n",
              "      box-shadow: 0px 1px 3px 1px rgba(0, 0, 0, 0.15);\n",
              "      filter: drop-shadow(0px 1px 2px rgba(0, 0, 0, 0.3));\n",
              "      fill: #FFFFFF;\n",
              "    }\n",
              "  </style>\n",
              "\n",
              "    <script>\n",
              "      const buttonEl =\n",
              "        document.querySelector('#df-6a602dda-908e-4abf-9e56-72258f725f2c button.colab-df-convert');\n",
              "      buttonEl.style.display =\n",
              "        google.colab.kernel.accessAllowed ? 'block' : 'none';\n",
              "\n",
              "      async function convertToInteractive(key) {\n",
              "        const element = document.querySelector('#df-6a602dda-908e-4abf-9e56-72258f725f2c');\n",
              "        const dataTable =\n",
              "          await google.colab.kernel.invokeFunction('convertToInteractive',\n",
              "                                                    [key], {});\n",
              "        if (!dataTable) return;\n",
              "\n",
              "        const docLinkHtml = 'Like what you see? Visit the ' +\n",
              "          '<a target=\"_blank\" href=https://colab.research.google.com/notebooks/data_table.ipynb>data table notebook</a>'\n",
              "          + ' to learn more about interactive tables.';\n",
              "        element.innerHTML = '';\n",
              "        dataTable['output_type'] = 'display_data';\n",
              "        await google.colab.output.renderOutput(dataTable, element);\n",
              "        const docLink = document.createElement('div');\n",
              "        docLink.innerHTML = docLinkHtml;\n",
              "        element.appendChild(docLink);\n",
              "      }\n",
              "    </script>\n",
              "  </div>\n",
              "\n",
              "\n",
              "<div id=\"df-ffa3ad10-c5b8-4190-a916-270002de9616\">\n",
              "  <button class=\"colab-df-quickchart\" onclick=\"quickchart('df-ffa3ad10-c5b8-4190-a916-270002de9616')\"\n",
              "            title=\"Suggest charts\"\n",
              "            style=\"display:none;\">\n",
              "\n",
              "<svg xmlns=\"http://www.w3.org/2000/svg\" height=\"24px\"viewBox=\"0 0 24 24\"\n",
              "     width=\"24px\">\n",
              "    <g>\n",
              "        <path d=\"M19 3H5c-1.1 0-2 .9-2 2v14c0 1.1.9 2 2 2h14c1.1 0 2-.9 2-2V5c0-1.1-.9-2-2-2zM9 17H7v-7h2v7zm4 0h-2V7h2v10zm4 0h-2v-4h2v4z\"/>\n",
              "    </g>\n",
              "</svg>\n",
              "  </button>\n",
              "\n",
              "<style>\n",
              "  .colab-df-quickchart {\n",
              "      --bg-color: #E8F0FE;\n",
              "      --fill-color: #1967D2;\n",
              "      --hover-bg-color: #E2EBFA;\n",
              "      --hover-fill-color: #174EA6;\n",
              "      --disabled-fill-color: #AAA;\n",
              "      --disabled-bg-color: #DDD;\n",
              "  }\n",
              "\n",
              "  [theme=dark] .colab-df-quickchart {\n",
              "      --bg-color: #3B4455;\n",
              "      --fill-color: #D2E3FC;\n",
              "      --hover-bg-color: #434B5C;\n",
              "      --hover-fill-color: #FFFFFF;\n",
              "      --disabled-bg-color: #3B4455;\n",
              "      --disabled-fill-color: #666;\n",
              "  }\n",
              "\n",
              "  .colab-df-quickchart {\n",
              "    background-color: var(--bg-color);\n",
              "    border: none;\n",
              "    border-radius: 50%;\n",
              "    cursor: pointer;\n",
              "    display: none;\n",
              "    fill: var(--fill-color);\n",
              "    height: 32px;\n",
              "    padding: 0;\n",
              "    width: 32px;\n",
              "  }\n",
              "\n",
              "  .colab-df-quickchart:hover {\n",
              "    background-color: var(--hover-bg-color);\n",
              "    box-shadow: 0 1px 2px rgba(60, 64, 67, 0.3), 0 1px 3px 1px rgba(60, 64, 67, 0.15);\n",
              "    fill: var(--button-hover-fill-color);\n",
              "  }\n",
              "\n",
              "  .colab-df-quickchart-complete:disabled,\n",
              "  .colab-df-quickchart-complete:disabled:hover {\n",
              "    background-color: var(--disabled-bg-color);\n",
              "    fill: var(--disabled-fill-color);\n",
              "    box-shadow: none;\n",
              "  }\n",
              "\n",
              "  .colab-df-spinner {\n",
              "    border: 2px solid var(--fill-color);\n",
              "    border-color: transparent;\n",
              "    border-bottom-color: var(--fill-color);\n",
              "    animation:\n",
              "      spin 1s steps(1) infinite;\n",
              "  }\n",
              "\n",
              "  @keyframes spin {\n",
              "    0% {\n",
              "      border-color: transparent;\n",
              "      border-bottom-color: var(--fill-color);\n",
              "      border-left-color: var(--fill-color);\n",
              "    }\n",
              "    20% {\n",
              "      border-color: transparent;\n",
              "      border-left-color: var(--fill-color);\n",
              "      border-top-color: var(--fill-color);\n",
              "    }\n",
              "    30% {\n",
              "      border-color: transparent;\n",
              "      border-left-color: var(--fill-color);\n",
              "      border-top-color: var(--fill-color);\n",
              "      border-right-color: var(--fill-color);\n",
              "    }\n",
              "    40% {\n",
              "      border-color: transparent;\n",
              "      border-right-color: var(--fill-color);\n",
              "      border-top-color: var(--fill-color);\n",
              "    }\n",
              "    60% {\n",
              "      border-color: transparent;\n",
              "      border-right-color: var(--fill-color);\n",
              "    }\n",
              "    80% {\n",
              "      border-color: transparent;\n",
              "      border-right-color: var(--fill-color);\n",
              "      border-bottom-color: var(--fill-color);\n",
              "    }\n",
              "    90% {\n",
              "      border-color: transparent;\n",
              "      border-bottom-color: var(--fill-color);\n",
              "    }\n",
              "  }\n",
              "</style>\n",
              "\n",
              "  <script>\n",
              "    async function quickchart(key) {\n",
              "      const quickchartButtonEl =\n",
              "        document.querySelector('#' + key + ' button');\n",
              "      quickchartButtonEl.disabled = true;  // To prevent multiple clicks.\n",
              "      quickchartButtonEl.classList.add('colab-df-spinner');\n",
              "      try {\n",
              "        const charts = await google.colab.kernel.invokeFunction(\n",
              "            'suggestCharts', [key], {});\n",
              "      } catch (error) {\n",
              "        console.error('Error during call to suggestCharts:', error);\n",
              "      }\n",
              "      quickchartButtonEl.classList.remove('colab-df-spinner');\n",
              "      quickchartButtonEl.classList.add('colab-df-quickchart-complete');\n",
              "    }\n",
              "    (() => {\n",
              "      let quickchartButtonEl =\n",
              "        document.querySelector('#df-ffa3ad10-c5b8-4190-a916-270002de9616 button');\n",
              "      quickchartButtonEl.style.display =\n",
              "        google.colab.kernel.accessAllowed ? 'block' : 'none';\n",
              "    })();\n",
              "  </script>\n",
              "</div>\n",
              "\n",
              "    </div>\n",
              "  </div>\n"
            ],
            "text/plain": [
              "  case_id case_outcome                                         case_title  \\\n",
              "0   Case1        cited  Alpine Hardwood (Aust) Pty Ltd v Hardys Pty Lt...   \n",
              "1   Case2        cited  Black v Lipovac [1998] FCA 699 ; (1998) 217 AL...   \n",
              "2   Case3        cited  Colgate Palmolive Co v Cussons Pty Ltd (1993) ...   \n",
              "3   Case4        cited  Dais Studio Pty Ltd v Bullett Creative Pty Ltd...   \n",
              "4   Case5        cited  Dr Martens Australia Pty Ltd v Figgins Holding...   \n",
              "\n",
              "                                           case_text  \n",
              "0  Ordinarily that discretion will be exercised s...  \n",
              "1  The general principles governing the exercise ...  \n",
              "2  Ordinarily that discretion will be exercised s...  \n",
              "3  The general principles governing the exercise ...  \n",
              "4  The preceding general principles inform the ex...  "
            ]
          },
          "execution_count": 14,
          "metadata": {},
          "output_type": "execute_result"
        }
      ],
      "source": [
        "df.head()"
      ]
    },
    {
      "cell_type": "markdown",
      "metadata": {
        "id": "TkvTk7YFJwYx"
      },
      "source": [
        "#Summarizing the first 100 entries in dataset\n",
        "Its because the summarization takes time and there are nearly 25k items in the dataset which is way large."
      ]
    },
    {
      "cell_type": "code",
      "execution_count": 15,
      "metadata": {
        "id": "zHoxZEQe1Z_A"
      },
      "outputs": [],
      "source": [
        "df = df.dropna().iloc[:100]"
      ]
    },
    {
      "cell_type": "code",
      "execution_count": 16,
      "metadata": {
        "id": "YMprVoncp45Z"
      },
      "outputs": [],
      "source": [
        "#Drop the unnecessary columns\n",
        "df = df.drop(['case_id', 'case_outcome'],axis=1)"
      ]
    },
    {
      "cell_type": "code",
      "execution_count": 17,
      "metadata": {
        "colab": {
          "base_uri": "https://localhost:8080/"
        },
        "id": "cQst1V1L1gwv",
        "outputId": "237e96c5-c5a4-49c8-bbb1-a6ccf40e89b8"
      },
      "outputs": [
        {
          "name": "stdout",
          "output_type": "stream",
          "text": [
            "<class 'pandas.core.frame.DataFrame'>\n",
            "Index: 100 entries, 0 to 100\n",
            "Data columns (total 2 columns):\n",
            " #   Column      Non-Null Count  Dtype \n",
            "---  ------      --------------  ----- \n",
            " 0   case_title  100 non-null    object\n",
            " 1   case_text   100 non-null    object\n",
            "dtypes: object(2)\n",
            "memory usage: 2.3+ KB\n"
          ]
        }
      ],
      "source": [
        "df.info()"
      ]
    },
    {
      "cell_type": "code",
      "execution_count": 18,
      "metadata": {
        "colab": {
          "base_uri": "https://localhost:8080/",
          "height": 292
        },
        "id": "Z3ULK4ByqFFJ",
        "outputId": "56fd4a1e-709e-44ce-f4d0-177c21d558ce"
      },
      "outputs": [
        {
          "data": {
            "application/vnd.google.colaboratory.intrinsic+json": {
              "summary": "{\n  \"name\": \"df\",\n  \"rows\": 100,\n  \"fields\": [\n    {\n      \"column\": \"case_title\",\n      \"properties\": {\n        \"dtype\": \"string\",\n        \"num_unique_values\": 100,\n        \"samples\": [\n          \"Lawrance v President, Administrative Appeals Tribunal [2005] FCA 79\",\n          \"Daemar v Industrial Commission (NSW) (1988) 12 NSWLR 45\",\n          \"Minister for Immigration and Multicultural Affairs v Jia Legeng [2001] HCA 17 ; (2001) 205 CLR 507\"\n        ],\n        \"semantic_type\": \"\",\n        \"description\": \"\"\n      }\n    },\n    {\n      \"column\": \"case_text\",\n      \"properties\": {\n        \"dtype\": \"string\",\n        \"num_unique_values\": 69,\n        \"samples\": [\n          \"There is a variety of ways in which the interests of persons, to whom liabilities may be owed, can be protected by orders made under the section. The nature of the protection can vary according to the nature of the risks assessed. As Palmer J said in ASIC v Mauer-Swisse Securities Ltd (2002) 20 ACLC 1530 at [37]: '... there may be evidence to suggest that fraud has been perpetrated on a large scale and that many of the victims have no or little information about the extent of the fraud, no or little means for their own investigations, and no or little resources to prosecute their own claims. In such a case, the interests of such persons are protected, within the contemplation of s 1323, by enabling ASIC to conduct an investigation for the purpose of identifying the wrongdoers and exposing them not only to penalties under the Corporations Act and other legislation, but also to claims for compensation from the victims themselves.' `\",\n          \"Ordinarily that discretion will be exercised so that costs follow the event and are awarded on a party and party basis. A departure from normal practice to award indemnity costs requires some special or unusual feature in the case: Alpine Hardwood (Aust) Pty Ltd v Hardys Pty Ltd (No 2) [2002] FCA 224 ; (2002) 190 ALR 121 at [11] (Weinberg J) citing Colgate Palmolive Co v Cussons Pty Ltd (1993) 46 FCR 225 at 233 (Sheppard J).\",\n          \"On this basis, the response of the respondent to the letters of Ms Nicholson-Brown's solicitors was appropriate and adequate. The respondent replied to the complaints of Ms Nicholson-Brown by reference to the policy decision, and did not bring into consideration the specific conduct of Ms Nicholson-Brown as this was not a matter for consideration. It cannot be said, in these circumstances, that the response was inadequate, because on my analysis the matters raised that were not adequately responded to from Ms Nicholson-Brown's point of view, could not have affected the outcome of the decision; see generally Dennis Willcox Pty Ltd v Commissioner of Taxation (1988) 79 ALR 267 at 276-277. There was no material which was relevantly taken into account which was not made available to each applicant, as was the case in Applicant VEAL of 2002 v Minister for Immigration and Multicultural and Indigenous Affairs [2005] HCA 72 ; (2005) 225 CLR 88. In view of the opportunity provided to and availed by each applicant to respond to the respondent after the suspension decision, the decision-making process, including the respondent's response to Ms Nicholson-Brown's solicitors letter, viewed in its entirety and in the circumstances of the implementation of a policy decision, did accord natural justice and procedural fairness.\"\n        ],\n        \"semantic_type\": \"\",\n        \"description\": \"\"\n      }\n    },\n    {\n      \"column\": \"Preprocessed\",\n      \"properties\": {\n        \"dtype\": \"string\",\n        \"num_unique_values\": 69,\n        \"samples\": [\n          \"variety way interest person liability may owed protected order made section nature protection vary according nature risk assessed palmer j said asic v mauerswisse security ltd 2002 20 aclc 1530 37 may evidence suggest fraud perpetrated large scale many victim little information extent fraud little mean investigation little resource prosecute claim case interest person protected within contemplation 1323 enabling asic conduct investigation purpose identifying wrongdoer exposing penalty corporation act legislation also claim compensation victim\",\n          \"ordinarily discretion exercised cost follow event awarded party party basis departure normal practice award indemnity cost requires special unusual feature case alpine hardwood aust pty ltd v hardy pty ltd 2 2002 fca 224 2002 190 alr 121 11 weinberg j citing colgate palmolive co v cussons pty ltd 1993 46 fcr 225 233 sheppard j\",\n          \"basis response respondent letter m nicholsonbrowns solicitor appropriate adequate respondent replied complaint m nicholsonbrown reference policy decision bring consideration specific conduct m nicholsonbrown matter consideration said circumstance response inadequate analysis matter raised adequately responded m nicholsonbrowns point view could affected outcome decision see generally dennis willcox pty ltd v commissioner taxation 1988 79 alr 267 276277 material relevantly taken account made available applicant case applicant veal 2002 v minister immigration multicultural indigenous affair 2005 hca 72 2005 225 clr 88 view opportunity provided availed applicant respond respondent suspension decision decisionmaking process including respondent response m nicholsonbrowns solicitor letter viewed entirety circumstance implementation policy decision accord natural justice procedural fairness\"\n        ],\n        \"semantic_type\": \"\",\n        \"description\": \"\"\n      }\n    }\n  ]\n}",
              "type": "dataframe",
              "variable_name": "df"
            },
            "text/html": [
              "\n",
              "  <div id=\"df-ab68d2fc-19c9-45c7-804a-9fa85f0b0582\" class=\"colab-df-container\">\n",
              "    <div>\n",
              "<style scoped>\n",
              "    .dataframe tbody tr th:only-of-type {\n",
              "        vertical-align: middle;\n",
              "    }\n",
              "\n",
              "    .dataframe tbody tr th {\n",
              "        vertical-align: top;\n",
              "    }\n",
              "\n",
              "    .dataframe thead th {\n",
              "        text-align: right;\n",
              "    }\n",
              "</style>\n",
              "<table border=\"1\" class=\"dataframe\">\n",
              "  <thead>\n",
              "    <tr style=\"text-align: right;\">\n",
              "      <th></th>\n",
              "      <th>case_title</th>\n",
              "      <th>case_text</th>\n",
              "      <th>Preprocessed</th>\n",
              "    </tr>\n",
              "  </thead>\n",
              "  <tbody>\n",
              "    <tr>\n",
              "      <th>0</th>\n",
              "      <td>Alpine Hardwood (Aust) Pty Ltd v Hardys Pty Lt...</td>\n",
              "      <td>Ordinarily that discretion will be exercised s...</td>\n",
              "      <td>ordinarily discretion exercised cost follow ev...</td>\n",
              "    </tr>\n",
              "    <tr>\n",
              "      <th>1</th>\n",
              "      <td>Black v Lipovac [1998] FCA 699 ; (1998) 217 AL...</td>\n",
              "      <td>The general principles governing the exercise ...</td>\n",
              "      <td>general principle governing exercise discretio...</td>\n",
              "    </tr>\n",
              "    <tr>\n",
              "      <th>2</th>\n",
              "      <td>Colgate Palmolive Co v Cussons Pty Ltd (1993) ...</td>\n",
              "      <td>Ordinarily that discretion will be exercised s...</td>\n",
              "      <td>ordinarily discretion exercised cost follow ev...</td>\n",
              "    </tr>\n",
              "    <tr>\n",
              "      <th>3</th>\n",
              "      <td>Dais Studio Pty Ltd v Bullett Creative Pty Ltd...</td>\n",
              "      <td>The general principles governing the exercise ...</td>\n",
              "      <td>general principle governing exercise discretio...</td>\n",
              "    </tr>\n",
              "    <tr>\n",
              "      <th>4</th>\n",
              "      <td>Dr Martens Australia Pty Ltd v Figgins Holding...</td>\n",
              "      <td>The preceding general principles inform the ex...</td>\n",
              "      <td>preceding general principle inform exercise di...</td>\n",
              "    </tr>\n",
              "  </tbody>\n",
              "</table>\n",
              "</div>\n",
              "    <div class=\"colab-df-buttons\">\n",
              "\n",
              "  <div class=\"colab-df-container\">\n",
              "    <button class=\"colab-df-convert\" onclick=\"convertToInteractive('df-ab68d2fc-19c9-45c7-804a-9fa85f0b0582')\"\n",
              "            title=\"Convert this dataframe to an interactive table.\"\n",
              "            style=\"display:none;\">\n",
              "\n",
              "  <svg xmlns=\"http://www.w3.org/2000/svg\" height=\"24px\" viewBox=\"0 -960 960 960\">\n",
              "    <path d=\"M120-120v-720h720v720H120Zm60-500h600v-160H180v160Zm220 220h160v-160H400v160Zm0 220h160v-160H400v160ZM180-400h160v-160H180v160Zm440 0h160v-160H620v160ZM180-180h160v-160H180v160Zm440 0h160v-160H620v160Z\"/>\n",
              "  </svg>\n",
              "    </button>\n",
              "\n",
              "  <style>\n",
              "    .colab-df-container {\n",
              "      display:flex;\n",
              "      gap: 12px;\n",
              "    }\n",
              "\n",
              "    .colab-df-convert {\n",
              "      background-color: #E8F0FE;\n",
              "      border: none;\n",
              "      border-radius: 50%;\n",
              "      cursor: pointer;\n",
              "      display: none;\n",
              "      fill: #1967D2;\n",
              "      height: 32px;\n",
              "      padding: 0 0 0 0;\n",
              "      width: 32px;\n",
              "    }\n",
              "\n",
              "    .colab-df-convert:hover {\n",
              "      background-color: #E2EBFA;\n",
              "      box-shadow: 0px 1px 2px rgba(60, 64, 67, 0.3), 0px 1px 3px 1px rgba(60, 64, 67, 0.15);\n",
              "      fill: #174EA6;\n",
              "    }\n",
              "\n",
              "    .colab-df-buttons div {\n",
              "      margin-bottom: 4px;\n",
              "    }\n",
              "\n",
              "    [theme=dark] .colab-df-convert {\n",
              "      background-color: #3B4455;\n",
              "      fill: #D2E3FC;\n",
              "    }\n",
              "\n",
              "    [theme=dark] .colab-df-convert:hover {\n",
              "      background-color: #434B5C;\n",
              "      box-shadow: 0px 1px 3px 1px rgba(0, 0, 0, 0.15);\n",
              "      filter: drop-shadow(0px 1px 2px rgba(0, 0, 0, 0.3));\n",
              "      fill: #FFFFFF;\n",
              "    }\n",
              "  </style>\n",
              "\n",
              "    <script>\n",
              "      const buttonEl =\n",
              "        document.querySelector('#df-ab68d2fc-19c9-45c7-804a-9fa85f0b0582 button.colab-df-convert');\n",
              "      buttonEl.style.display =\n",
              "        google.colab.kernel.accessAllowed ? 'block' : 'none';\n",
              "\n",
              "      async function convertToInteractive(key) {\n",
              "        const element = document.querySelector('#df-ab68d2fc-19c9-45c7-804a-9fa85f0b0582');\n",
              "        const dataTable =\n",
              "          await google.colab.kernel.invokeFunction('convertToInteractive',\n",
              "                                                    [key], {});\n",
              "        if (!dataTable) return;\n",
              "\n",
              "        const docLinkHtml = 'Like what you see? Visit the ' +\n",
              "          '<a target=\"_blank\" href=https://colab.research.google.com/notebooks/data_table.ipynb>data table notebook</a>'\n",
              "          + ' to learn more about interactive tables.';\n",
              "        element.innerHTML = '';\n",
              "        dataTable['output_type'] = 'display_data';\n",
              "        await google.colab.output.renderOutput(dataTable, element);\n",
              "        const docLink = document.createElement('div');\n",
              "        docLink.innerHTML = docLinkHtml;\n",
              "        element.appendChild(docLink);\n",
              "      }\n",
              "    </script>\n",
              "  </div>\n",
              "\n",
              "\n",
              "<div id=\"df-d4cca47b-582f-4676-b822-0bd9d4f825d9\">\n",
              "  <button class=\"colab-df-quickchart\" onclick=\"quickchart('df-d4cca47b-582f-4676-b822-0bd9d4f825d9')\"\n",
              "            title=\"Suggest charts\"\n",
              "            style=\"display:none;\">\n",
              "\n",
              "<svg xmlns=\"http://www.w3.org/2000/svg\" height=\"24px\"viewBox=\"0 0 24 24\"\n",
              "     width=\"24px\">\n",
              "    <g>\n",
              "        <path d=\"M19 3H5c-1.1 0-2 .9-2 2v14c0 1.1.9 2 2 2h14c1.1 0 2-.9 2-2V5c0-1.1-.9-2-2-2zM9 17H7v-7h2v7zm4 0h-2V7h2v10zm4 0h-2v-4h2v4z\"/>\n",
              "    </g>\n",
              "</svg>\n",
              "  </button>\n",
              "\n",
              "<style>\n",
              "  .colab-df-quickchart {\n",
              "      --bg-color: #E8F0FE;\n",
              "      --fill-color: #1967D2;\n",
              "      --hover-bg-color: #E2EBFA;\n",
              "      --hover-fill-color: #174EA6;\n",
              "      --disabled-fill-color: #AAA;\n",
              "      --disabled-bg-color: #DDD;\n",
              "  }\n",
              "\n",
              "  [theme=dark] .colab-df-quickchart {\n",
              "      --bg-color: #3B4455;\n",
              "      --fill-color: #D2E3FC;\n",
              "      --hover-bg-color: #434B5C;\n",
              "      --hover-fill-color: #FFFFFF;\n",
              "      --disabled-bg-color: #3B4455;\n",
              "      --disabled-fill-color: #666;\n",
              "  }\n",
              "\n",
              "  .colab-df-quickchart {\n",
              "    background-color: var(--bg-color);\n",
              "    border: none;\n",
              "    border-radius: 50%;\n",
              "    cursor: pointer;\n",
              "    display: none;\n",
              "    fill: var(--fill-color);\n",
              "    height: 32px;\n",
              "    padding: 0;\n",
              "    width: 32px;\n",
              "  }\n",
              "\n",
              "  .colab-df-quickchart:hover {\n",
              "    background-color: var(--hover-bg-color);\n",
              "    box-shadow: 0 1px 2px rgba(60, 64, 67, 0.3), 0 1px 3px 1px rgba(60, 64, 67, 0.15);\n",
              "    fill: var(--button-hover-fill-color);\n",
              "  }\n",
              "\n",
              "  .colab-df-quickchart-complete:disabled,\n",
              "  .colab-df-quickchart-complete:disabled:hover {\n",
              "    background-color: var(--disabled-bg-color);\n",
              "    fill: var(--disabled-fill-color);\n",
              "    box-shadow: none;\n",
              "  }\n",
              "\n",
              "  .colab-df-spinner {\n",
              "    border: 2px solid var(--fill-color);\n",
              "    border-color: transparent;\n",
              "    border-bottom-color: var(--fill-color);\n",
              "    animation:\n",
              "      spin 1s steps(1) infinite;\n",
              "  }\n",
              "\n",
              "  @keyframes spin {\n",
              "    0% {\n",
              "      border-color: transparent;\n",
              "      border-bottom-color: var(--fill-color);\n",
              "      border-left-color: var(--fill-color);\n",
              "    }\n",
              "    20% {\n",
              "      border-color: transparent;\n",
              "      border-left-color: var(--fill-color);\n",
              "      border-top-color: var(--fill-color);\n",
              "    }\n",
              "    30% {\n",
              "      border-color: transparent;\n",
              "      border-left-color: var(--fill-color);\n",
              "      border-top-color: var(--fill-color);\n",
              "      border-right-color: var(--fill-color);\n",
              "    }\n",
              "    40% {\n",
              "      border-color: transparent;\n",
              "      border-right-color: var(--fill-color);\n",
              "      border-top-color: var(--fill-color);\n",
              "    }\n",
              "    60% {\n",
              "      border-color: transparent;\n",
              "      border-right-color: var(--fill-color);\n",
              "    }\n",
              "    80% {\n",
              "      border-color: transparent;\n",
              "      border-right-color: var(--fill-color);\n",
              "      border-bottom-color: var(--fill-color);\n",
              "    }\n",
              "    90% {\n",
              "      border-color: transparent;\n",
              "      border-bottom-color: var(--fill-color);\n",
              "    }\n",
              "  }\n",
              "</style>\n",
              "\n",
              "  <script>\n",
              "    async function quickchart(key) {\n",
              "      const quickchartButtonEl =\n",
              "        document.querySelector('#' + key + ' button');\n",
              "      quickchartButtonEl.disabled = true;  // To prevent multiple clicks.\n",
              "      quickchartButtonEl.classList.add('colab-df-spinner');\n",
              "      try {\n",
              "        const charts = await google.colab.kernel.invokeFunction(\n",
              "            'suggestCharts', [key], {});\n",
              "      } catch (error) {\n",
              "        console.error('Error during call to suggestCharts:', error);\n",
              "      }\n",
              "      quickchartButtonEl.classList.remove('colab-df-spinner');\n",
              "      quickchartButtonEl.classList.add('colab-df-quickchart-complete');\n",
              "    }\n",
              "    (() => {\n",
              "      let quickchartButtonEl =\n",
              "        document.querySelector('#df-d4cca47b-582f-4676-b822-0bd9d4f825d9 button');\n",
              "      quickchartButtonEl.style.display =\n",
              "        google.colab.kernel.accessAllowed ? 'block' : 'none';\n",
              "    })();\n",
              "  </script>\n",
              "</div>\n",
              "\n",
              "    </div>\n",
              "  </div>\n"
            ],
            "text/plain": [
              "                                          case_title  \\\n",
              "0  Alpine Hardwood (Aust) Pty Ltd v Hardys Pty Lt...   \n",
              "1  Black v Lipovac [1998] FCA 699 ; (1998) 217 AL...   \n",
              "2  Colgate Palmolive Co v Cussons Pty Ltd (1993) ...   \n",
              "3  Dais Studio Pty Ltd v Bullett Creative Pty Ltd...   \n",
              "4  Dr Martens Australia Pty Ltd v Figgins Holding...   \n",
              "\n",
              "                                           case_text  \\\n",
              "0  Ordinarily that discretion will be exercised s...   \n",
              "1  The general principles governing the exercise ...   \n",
              "2  Ordinarily that discretion will be exercised s...   \n",
              "3  The general principles governing the exercise ...   \n",
              "4  The preceding general principles inform the ex...   \n",
              "\n",
              "                                        Preprocessed  \n",
              "0  ordinarily discretion exercised cost follow ev...  \n",
              "1  general principle governing exercise discretio...  \n",
              "2  ordinarily discretion exercised cost follow ev...  \n",
              "3  general principle governing exercise discretio...  \n",
              "4  preceding general principle inform exercise di...  "
            ]
          },
          "execution_count": 18,
          "metadata": {},
          "output_type": "execute_result"
        }
      ],
      "source": [
        "df['Preprocessed'] = df['case_text'].apply(preprocess_text)\n",
        "df.head()"
      ]
    },
    {
      "cell_type": "markdown",
      "metadata": {
        "id": "8vrX2UqbKIu4"
      },
      "source": [
        "#Get summaries in Summary column"
      ]
    },
    {
      "cell_type": "code",
      "execution_count": 19,
      "metadata": {
        "id": "bP_Jn3ylqSQo"
      },
      "outputs": [],
      "source": [
        "df['Summary'] = df['Preprocessed'].apply(get_summary)"
      ]
    },
    {
      "cell_type": "markdown",
      "metadata": {
        "id": "8nSKHejfKO1c"
      },
      "source": [
        "#Printing the top 5 summaries"
      ]
    },
    {
      "cell_type": "code",
      "execution_count": 25,
      "metadata": {
        "colab": {
          "base_uri": "https://localhost:8080/"
        },
        "id": "sfqGglQ8w67L",
        "outputId": "6a4fcccc-1aa4-49a2-fc6c-1d1b32a1d395"
      },
      "outputs": [
        {
          "name": "stdout",
          "output_type": "stream",
          "text": [
            "In awarding indemnity costs, the court exercises discretion, departing from the normal practice, and requires a special or unusual feature in the case. This principle is supported by Alpine Hardwood Aust Pty Ltd v Hardy Pty Ltd (2002) FCA 224, (2002) 190 ALR 121, where Weinberg J cited Colgate Palmolive Co v Cussons Pty Ltd (1993) 46 FCR 225, 233, per Sheppard J.\n",
            "\n",
            "The general principle governing the exercise of discretion to award indemnity costs in a rejected Calderbank letter is outlined. According to the Full Court in Black v Lipovac (1998) FCA 699, (1998) 217 ALR 386, a mere refusal of a Calderbank offer does not warrant an order for indemnity costs. The High Court in Jessup v Dais Studio Pty Ltd v Bullet Creative Pty Ltd (2008) FCA 42 emphasized that rejection of an offer is not, in itself, a ground for indemnity costs. To obtain an order for indemnity costs, the offeror must show that the refusal to accept the offer was unreasonable in the circumstances. The reasonableness of the offeree's conduct is viewed in the light of the circumstances that existed at the time the offer was rejected.\n",
            "\n",
            "In exercising discretion on costs, the court normally awards costs on a party-party basis. However, in exceptional cases with special or unusual features, indemnity costs may be awarded, as seen in Alpine Hardwood Aust Pty Ltd v Hardy Pty Ltd [2002] FCA 224; 190 ALR 121. This principle is supported by Colgate Palmolive Co v Cussons Pty Ltd [1993] 46 FCR 225, 233, as cited by Weinberg J.\n",
            "\n",
            "The general principle governing the exercise of discretion to award indemnity costs is that a mere refusal of a Calderbank offer does not warrant an order for indemnity costs. To obtain such an order, the offeror must show that the refusal to accept the offer was unreasonable, considering the circumstances that existed when the offer was rejected. This principle is based on the judgments in Black v Lipovac (1998) and Jessup v Dais Studio Pty Ltd v Bullet Creative Pty Ltd (2008). Key entities involved: Calderbank, Black, Lipovac, Jessup, Dais Studio Pty Ltd, and Bullet Creative Pty Ltd.\n",
            "\n",
            "The principle of exercising discretion in a transformed way, as established in the case of John Hayes & Associate Pty Ltd v Kimberly-Clark Australia Pty Ltd (1994) 52 FCR 201, requires careful consideration to avoid limiting discretion by referencing a closed category. This approach was reiterated by Hill J. In a separate case, Dr. Martens Australia Pty Ltd v Figgins Holding Pty Ltd (2000) FCA 602, Goldberg J also emphasized the importance of exercising discretion with caution. Key entities involved include John Hayes & Associate Pty Ltd, Kimberly-Clark Australia Pty Ltd, Dr. Martens Australia Pty Ltd, and Figgins Holding Pty Ltd.\n",
            "\n"
          ]
        }
      ],
      "source": [
        "for _ in range(5):\n",
        "  summary = df.iloc[_]['Summary']\n",
        "  print(summary)\n",
        "  print()"
      ]
    },
    {
      "cell_type": "markdown",
      "metadata": {
        "id": "u-lhyGZ1KT0a"
      },
      "source": [
        "#Save the summaries in a csv file"
      ]
    },
    {
      "cell_type": "code",
      "execution_count": 53,
      "metadata": {
        "id": "oMKsBIE9CYNi"
      },
      "outputs": [],
      "source": [
        "df['Summary'].to_csv('/kaggle/working/summary.csv',index=False)"
      ]
    },
    {
      "cell_type": "code",
      "execution_count": null,
      "metadata": {
        "id": "YNk5ODKCCyVN"
      },
      "outputs": [],
      "source": []
    }
  ],
  "metadata": {
    "colab": {
      "provenance": []
    },
    "kaggle": {
      "accelerator": "none",
      "dataSources": [
        {
          "datasetId": 3873453,
          "sourceId": 6723483,
          "sourceType": "datasetVersion"
        }
      ],
      "dockerImageVersionId": 30587,
      "isGpuEnabled": false,
      "isInternetEnabled": true,
      "language": "python",
      "sourceType": "notebook"
    },
    "kernelspec": {
      "display_name": "Python 3",
      "language": "python",
      "name": "python3"
    },
    "language_info": {
      "codemirror_mode": {
        "name": "ipython",
        "version": 3
      },
      "file_extension": ".py",
      "mimetype": "text/x-python",
      "name": "python",
      "nbconvert_exporter": "python",
      "pygments_lexer": "ipython3",
      "version": "3.10.12"
    }
  },
  "nbformat": 4,
  "nbformat_minor": 0
}
